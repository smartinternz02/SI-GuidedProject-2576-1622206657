{
 "cells": [
  {
   "cell_type": "code",
   "execution_count": 2,
   "metadata": {},
   "outputs": [
    {
     "name": "stdout",
     "output_type": "stream",
     "text": [
      "Requirement already up-to-date: watson-machine-learning-client in c:\\users\\user\\anaconda3\\lib\\site-packages (1.0.391)\n",
      "Requirement already satisfied, skipping upgrade: tqdm in c:\\users\\user\\anaconda3\\lib\\site-packages (from watson-machine-learning-client) (4.42.1)\n",
      "Requirement already satisfied, skipping upgrade: certifi in c:\\users\\user\\anaconda3\\lib\\site-packages (from watson-machine-learning-client) (2019.11.28)\n",
      "Requirement already satisfied, skipping upgrade: boto3 in c:\\users\\user\\anaconda3\\lib\\site-packages (from watson-machine-learning-client) (1.17.88)\n",
      "Requirement already satisfied, skipping upgrade: lomond in c:\\users\\user\\anaconda3\\lib\\site-packages (from watson-machine-learning-client) (0.3.3)\n",
      "Requirement already satisfied, skipping upgrade: pandas in c:\\users\\user\\anaconda3\\lib\\site-packages (from watson-machine-learning-client) (1.0.1)\n",
      "Requirement already satisfied, skipping upgrade: urllib3 in c:\\users\\user\\anaconda3\\lib\\site-packages (from watson-machine-learning-client) (1.25.8)\n",
      "Requirement already satisfied, skipping upgrade: requests in c:\\users\\user\\anaconda3\\lib\\site-packages (from watson-machine-learning-client) (2.22.0)\n",
      "Requirement already satisfied, skipping upgrade: ibm-cos-sdk in c:\\users\\user\\anaconda3\\lib\\site-packages (from watson-machine-learning-client) (2.10.0)\n",
      "Requirement already satisfied, skipping upgrade: tabulate in c:\\users\\user\\anaconda3\\lib\\site-packages (from watson-machine-learning-client) (0.8.9)\n",
      "Requirement already satisfied, skipping upgrade: jmespath<1.0.0,>=0.7.1 in c:\\users\\user\\anaconda3\\lib\\site-packages (from boto3->watson-machine-learning-client) (0.10.0)\n",
      "Requirement already satisfied, skipping upgrade: botocore<1.21.0,>=1.20.88 in c:\\users\\user\\anaconda3\\lib\\site-packages (from boto3->watson-machine-learning-client) (1.20.88)\n",
      "Requirement already satisfied, skipping upgrade: s3transfer<0.5.0,>=0.4.0 in c:\\users\\user\\anaconda3\\lib\\site-packages (from boto3->watson-machine-learning-client) (0.4.2)\n",
      "Requirement already satisfied, skipping upgrade: six>=1.10.0 in c:\\users\\user\\anaconda3\\lib\\site-packages (from lomond->watson-machine-learning-client) (1.14.0)\n",
      "Requirement already satisfied, skipping upgrade: python-dateutil>=2.6.1 in c:\\users\\user\\anaconda3\\lib\\site-packages (from pandas->watson-machine-learning-client) (2.8.1)\n",
      "Requirement already satisfied, skipping upgrade: numpy>=1.13.3 in c:\\users\\user\\anaconda3\\lib\\site-packages (from pandas->watson-machine-learning-client) (1.18.1)\n",
      "Requirement already satisfied, skipping upgrade: pytz>=2017.2 in c:\\users\\user\\anaconda3\\lib\\site-packages (from pandas->watson-machine-learning-client) (2019.3)\n",
      "Requirement already satisfied, skipping upgrade: chardet<3.1.0,>=3.0.2 in c:\\users\\user\\anaconda3\\lib\\site-packages (from requests->watson-machine-learning-client) (3.0.4)\n",
      "Requirement already satisfied, skipping upgrade: idna<2.9,>=2.5 in c:\\users\\user\\anaconda3\\lib\\site-packages (from requests->watson-machine-learning-client) (2.8)\n",
      "Requirement already satisfied, skipping upgrade: ibm-cos-sdk-core==2.10.0 in c:\\users\\user\\anaconda3\\lib\\site-packages (from ibm-cos-sdk->watson-machine-learning-client) (2.10.0)\n",
      "Requirement already satisfied, skipping upgrade: ibm-cos-sdk-s3transfer==2.10.0 in c:\\users\\user\\anaconda3\\lib\\site-packages (from ibm-cos-sdk->watson-machine-learning-client) (2.10.0)\n"
     ]
    }
   ],
   "source": [
    "!pip install watson-machine-learning-client --upgrade"
   ]
  },
  {
   "cell_type": "code",
   "execution_count": 3,
   "metadata": {},
   "outputs": [
    {
     "name": "stderr",
     "output_type": "stream",
     "text": [
      "C:\\Users\\User\\anaconda3\\lib\\site-packages\\sklearn\\externals\\joblib\\__init__.py:15: DeprecationWarning: sklearn.externals.joblib is deprecated in 0.21 and will be removed in 0.23. Please import this functionality directly from joblib, which can be installed with: pip install joblib. If this warning is raised when loading pickled models, you may need to re-serialize those models with scikit-learn 0.21+.\n",
      "  warnings.warn(msg, category=DeprecationWarning)\n"
     ]
    }
   ],
   "source": [
    "from ibm_watson_machine_learning import APIClient\n",
    "wml_credentials = {\n",
    "                    \"url\" :\"https://us-south.ml.cloud.ibm.com\",\n",
    "                    \"apikey\" : \"5Rvmdcs6t_xKcbzzt-aXDT5XMQ2KdDcGHKQtM_EkQG1b\"\n",
    "                  }\n",
    "\n",
    "client = APIClient(wml_credentials)"
   ]
  },
  {
   "cell_type": "code",
   "execution_count": 4,
   "metadata": {},
   "outputs": [],
   "source": [
    "client = APIClient(wml_credentials)"
   ]
  },
  {
   "cell_type": "code",
   "execution_count": 5,
   "metadata": {},
   "outputs": [],
   "source": [
    "def guid_from_space_name(client, space_name):\n",
    "    space = client.spaces.get_details()\n",
    "    return(next(item for item in space['resources'] if item['entity']['name'] == space_name)['metadata']['id'])"
   ]
  },
  {
   "cell_type": "code",
   "execution_count": 6,
   "metadata": {},
   "outputs": [
    {
     "name": "stdout",
     "output_type": "stream",
     "text": [
      "Space UID=3f025f8e-6f7e-4c16-aaba-5e05668b7170\n"
     ]
    }
   ],
   "source": [
    "space_uid=guid_from_space_name(client,'shapeclassification')\n",
    "print(\"Space UID=\"+ space_uid)"
   ]
  },
  {
   "cell_type": "code",
   "execution_count": 7,
   "metadata": {},
   "outputs": [
    {
     "data": {
      "text/plain": [
       "'SUCCESS'"
      ]
     },
     "execution_count": 7,
     "metadata": {},
     "output_type": "execute_result"
    }
   ],
   "source": [
    "client.set.default_space(space_uid)"
   ]
  },
  {
   "cell_type": "code",
   "execution_count": 10,
   "metadata": {},
   "outputs": [
    {
     "name": "stdout",
     "output_type": "stream",
     "text": [
      "Successfully saved model content to file: 'shape.tar.gz'\n"
     ]
    },
    {
     "data": {
      "text/plain": [
       "'E:\\\\IBM/shape.tar.gz'"
      ]
     },
     "execution_count": 10,
     "metadata": {},
     "output_type": "execute_result"
    }
   ],
   "source": [
    "client.repository.download(\"b165d308-28fe-4eb6-9876-74da675319eb\",'shape.tar.gz')"
   ]
  },
  {
   "cell_type": "code",
   "execution_count": null,
   "metadata": {},
   "outputs": [],
   "source": []
  }
 ],
 "metadata": {
  "kernelspec": {
   "display_name": "Python 3",
   "language": "python",
   "name": "python3"
  },
  "language_info": {
   "codemirror_mode": {
    "name": "ipython",
    "version": 3
   },
   "file_extension": ".py",
   "mimetype": "text/x-python",
   "name": "python",
   "nbconvert_exporter": "python",
   "pygments_lexer": "ipython3",
   "version": "3.7.6"
  }
 },
 "nbformat": 4,
 "nbformat_minor": 4
}
